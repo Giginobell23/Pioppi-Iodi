{
 "cells": [
  {
   "cell_type": "code",
   "execution_count": 1,
   "metadata": {},
   "outputs": [],
   "source": [
    "import pandas as pd\n",
    "from sklearn.tree import DecisionTreeClassifier \n",
    "from sklearn.model_selection import train_test_split \n",
    "from sklearn import metrics \n",
    "\n",
    "pd.set_option(\"display.max_columns\", None)"
   ]
  },
  {
   "cell_type": "code",
   "execution_count": 2,
   "metadata": {},
   "outputs": [
    {
     "name": "stdout",
     "output_type": "stream",
     "text": [
      "<class 'pandas.core.frame.DataFrame'>\n",
      "RangeIndex: 8763 entries, 0 to 8762\n",
      "Data columns (total 22 columns):\n",
      " #   Column                           Non-Null Count  Dtype  \n",
      "---  ------                           --------------  -----  \n",
      " 0   Age                              8763 non-null   int64  \n",
      " 1   Sex                              8763 non-null   int64  \n",
      " 2   Cholesterol                      8763 non-null   int64  \n",
      " 3   Heart Rate                       8763 non-null   int64  \n",
      " 4   Diabetes                         8763 non-null   int64  \n",
      " 5   Family History                   8763 non-null   int64  \n",
      " 6   Smoking                          8763 non-null   int64  \n",
      " 7   Obesity                          8763 non-null   int64  \n",
      " 8   Alcohol Consumption              8763 non-null   int64  \n",
      " 9   Exercise Hours Per Week          8763 non-null   float64\n",
      " 10  Diet                             8763 non-null   int64  \n",
      " 11  Previous Heart Problems          8763 non-null   int64  \n",
      " 12  Medication Use                   8763 non-null   int64  \n",
      " 13  Stress Level                     8763 non-null   int64  \n",
      " 14  Sedentary Hours Per Day          8763 non-null   float64\n",
      " 15  BMI                              8763 non-null   float64\n",
      " 16  Triglycerides                    8763 non-null   int64  \n",
      " 17  Physical Activity Days Per Week  8763 non-null   int64  \n",
      " 18  Sleep Hours Per Day              8763 non-null   int64  \n",
      " 19  Heart Attack Risk                8763 non-null   int64  \n",
      " 20  Systolic BP                      8763 non-null   int64  \n",
      " 21  Diastolic BP                     8763 non-null   int64  \n",
      "dtypes: float64(3), int64(19)\n",
      "memory usage: 1.5 MB\n"
     ]
    }
   ],
   "source": [
    "tabella = pd.read_csv(\"heart_attack_prediction_dataset.csv\")\n",
    "\n",
    "selected_features = [\n",
    "\"Age\",\n",
    "\"Sex\",\n",
    "\"Cholesterol\",\n",
    "\"Blood Pressure\",\n",
    "\"Heart Rate\",\n",
    "\"Diabetes\",\n",
    "\"Family History\",\n",
    "\"Smoking\",\n",
    "\"Obesity\",\n",
    "\"Alcohol Consumption\",\n",
    "\"Exercise Hours Per Week\",\n",
    "\"Diet\",\n",
    "\"Previous Heart Problems\",\n",
    "\"Medication Use\",\n",
    "\"Stress Level\",\n",
    "\"Sedentary Hours Per Day\",\n",
    "\"BMI\",\n",
    "\"Triglycerides\",\n",
    "\"Physical Activity Days Per Week\",\n",
    "\"Sleep Hours Per Day\",\n",
    "\"Heart Attack Risk\"]\n",
    "\n",
    "tabella = tabella[selected_features]\n",
    "\n",
    "tabella[\"Sex\"] = tabella[\"Sex\"].replace({\"Male\": 0, \"Female\": 1})\n",
    "\n",
    "tabella[['Systolic BP', 'Diastolic BP']] = tabella['Blood Pressure'].str.split('/', expand=True)\n",
    "tabella['Systolic BP'] = pd.to_numeric(tabella['Systolic BP'])\n",
    "tabella['Diastolic BP'] = pd.to_numeric(tabella['Diastolic BP'])\n",
    "tabella[\"Diet\"] = tabella[\"Diet\"].replace({\"Healthy\": 0, \"Unhealthy\": 1, \"Average\": 2})\n",
    "\n",
    "tabella.drop(columns=['Blood Pressure'], inplace=True)\n",
    "\n",
    "tabella.info()"
   ]
  },
  {
   "cell_type": "code",
   "execution_count": 3,
   "metadata": {},
   "outputs": [],
   "source": [
    "selected_features = [\n",
    "\"Age\",\n",
    "\"Sex\",\n",
    "\"Cholesterol\",\n",
    "\"Heart Rate\",\n",
    "\"Diabetes\",\n",
    "\"Family History\",\n",
    "\"Smoking\",\n",
    "\"Obesity\",\n",
    "\"Alcohol Consumption\",\n",
    "\"Exercise Hours Per Week\",\n",
    "\"Diet\",\n",
    "\"Previous Heart Problems\",\n",
    "\"Medication Use\",\n",
    "\"Stress Level\",\n",
    "\"Sedentary Hours Per Day\",\n",
    "\"BMI\",\n",
    "\"Triglycerides\",\n",
    "\"Physical Activity Days Per Week\",\n",
    "\"Sleep Hours Per Day\",\n",
    "\"Heart Attack Risk\",\n",
    "\"Diastolic BP\",\n",
    "\"Systolic BP\"\n",
    "]"
   ]
  },
  {
   "cell_type": "code",
   "execution_count": 4,
   "metadata": {},
   "outputs": [],
   "source": [
    "X = tabella.drop(columns=[\"Heart Attack Risk\"])\n",
    "y = tabella[\"Heart Attack Risk\"]\n",
    "X_train, X_test, y_train, y_test = train_test_split(X, y, test_size=0.3, random_state=43)"
   ]
  },
  {
   "cell_type": "code",
   "execution_count": 5,
   "metadata": {},
   "outputs": [
    {
     "name": "stdout",
     "output_type": "stream",
     "text": [
      "Accuracy: 0.5340433624952453\n"
     ]
    }
   ],
   "source": [
    "clf = DecisionTreeClassifier()\n",
    "clf = clf.fit(X_train,y_train)\n",
    "y_pred = clf.predict(X_test)\n",
    "print(\"Accuracy:\",metrics.accuracy_score(y_test, y_pred))"
   ]
  },
  {
   "cell_type": "code",
   "execution_count": null,
   "metadata": {},
   "outputs": [],
   "source": []
  }
 ],
 "metadata": {
  "kernelspec": {
   "display_name": "Python 3",
   "language": "python",
   "name": "python3"
  },
  "language_info": {
   "codemirror_mode": {
    "name": "ipython",
    "version": 3
   },
   "file_extension": ".py",
   "mimetype": "text/x-python",
   "name": "python",
   "nbconvert_exporter": "python",
   "pygments_lexer": "ipython3",
   "version": "3.10.3"
  }
 },
 "nbformat": 4,
 "nbformat_minor": 2
}
